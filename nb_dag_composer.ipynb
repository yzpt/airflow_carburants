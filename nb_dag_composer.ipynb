{
 "cells": [
  {
   "cell_type": "code",
   "execution_count": 2,
   "metadata": {},
   "outputs": [],
   "source": [
    "import requests\n",
    "from datetime import datetime\n",
    "import zipfile\n",
    "import xml.etree.ElementTree as ET\n",
    "from google.cloud import storage\n",
    "from google.cloud import bigquery\n",
    "import logging\n",
    "import os"
   ]
  },
  {
   "cell_type": "code",
   "execution_count": 3,
   "metadata": {},
   "outputs": [],
   "source": [
    "os.environ[\"GOOGLE_APPLICATION_CREDENTIALS\"] = \"./key-SA-carburants-composer.json\""
   ]
  },
  {
   "cell_type": "code",
   "execution_count": 4,
   "metadata": {},
   "outputs": [],
   "source": [
    "def storage_client():\n",
    "    try:\n",
    "        storage_client = storage.Client()\n",
    "        logging.info('Connected to storage.')\n",
    "        return storage_client\n",
    "    except Exception as e:\n",
    "        logging.error(e)\n"
   ]
  },
  {
   "cell_type": "code",
   "execution_count": 5,
   "metadata": {},
   "outputs": [],
   "source": [
    "storage_client = storage_client()"
   ]
  },
  {
   "cell_type": "code",
   "execution_count": 6,
   "metadata": {},
   "outputs": [],
   "source": [
    "def upload_file_from(storage_client, bucket_name, destination_blob_name):\n",
    "    try:\n",
    "        # Download the file from the URL\n",
    "        response = requests.get('https://donnees.roulez-eco.fr/opendata/instantane')\n",
    "        if response.status_code != 200:\n",
    "            raise Exception(f\"Failed to download file from URL: https://donnees.roulez-eco.fr/opendata/instantane\")\n",
    "\n",
    "        # Upload the file to the bucket\n",
    "        bucket = storage_client.bucket(bucket_name)\n",
    "        blob = bucket.blob(destination_blob_name)\n",
    "        blob.upload_from_string(response.content)\n",
    "\n",
    "        logging.info(f\"File uploaded to {destination_blob_name}.\")\n",
    "    except Exception as e:\n",
    "        logging.error(e)"
   ]
  },
  {
   "cell_type": "code",
   "execution_count": 7,
   "metadata": {},
   "outputs": [],
   "source": [
    "# !gsutil mb gs://carburants-composer"
   ]
  },
  {
   "cell_type": "code",
   "execution_count": 8,
   "metadata": {},
   "outputs": [],
   "source": [
    "upload_file_from(storage_client, 'carburants-composer', 'carburants.zip')"
   ]
  },
  {
   "cell_type": "code",
   "execution_count": 9,
   "metadata": {},
   "outputs": [
    {
     "name": "stdout",
     "output_type": "stream",
     "text": [
      "gs://carburants-composer/carburants.zip\n"
     ]
    }
   ],
   "source": [
    "!gsutil ls gs://carburants-composer"
   ]
  },
  {
   "cell_type": "code",
   "execution_count": null,
   "metadata": {},
   "outputs": [],
   "source": [
    "import zipfile\n",
    "\n",
    "# Specify the path to the zip file in the bucket\n",
    "zip_file_path = 'gs://carburants-composer/carburants.zip'\n",
    "\n",
    "# Specify the path to the file you want to extract from the zip file\n",
    "xml_file_path = 'gs://carburants-composer/carburants.xml'\n",
    "\n",
    "# Specify temporary folder\n",
    "temp_folder_path = 'gs://carburants-composer/temp/'\n",
    "\n",
    "storage_client = storage.Client()\n",
    "\n",
    "def unzip_file(storage_client, zip_file_path, temp_folder_path, xml_file_path):\n",
    "    try:\n",
    "        # Download the zip file from the bucket\n",
    "        bucket = storage_client.bucket(zip_file_path.split('/')[2])\n",
    "        blob = bucket.blob(zip_file_path.split('/')[3])\n",
    "        blob.download_to_filename('temp.zip')\n",
    "\n",
    "        # Unzip the file\n",
    "        with zipfile.ZipFile('temp.zip', 'r') as zip_ref:\n",
    "            zip_ref.extractall('temp')\n",
    "\n",
    "        # Upload the XML file to the bucket\n",
    "        bucket = storage_client.bucket(xml_file_path.split('/')[2])\n",
    "        blob = bucket.blob(xml_file_path.split('/')[3])\n",
    "        blob.upload_from_filename('temp/carburants.xml')\n",
    "\n",
    "        logging.info(f\"File uploaded to {xml_file_path}.\")\n",
    "    except Exception as e:\n",
    "        logging.error(e)\n"
   ]
  }
 ],
 "metadata": {
  "kernelspec": {
   "display_name": "venv",
   "language": "python",
   "name": "python3"
  },
  "language_info": {
   "codemirror_mode": {
    "name": "ipython",
    "version": 3
   },
   "file_extension": ".py",
   "mimetype": "text/x-python",
   "name": "python",
   "nbconvert_exporter": "python",
   "pygments_lexer": "ipython3",
   "version": "3.10.12"
  }
 },
 "nbformat": 4,
 "nbformat_minor": 2
}
