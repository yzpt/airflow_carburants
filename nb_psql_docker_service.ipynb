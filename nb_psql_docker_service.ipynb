{
 "cells": [
  {
   "cell_type": "code",
   "execution_count": 8,
   "metadata": {},
   "outputs": [],
   "source": [
    "import psycopg2"
   ]
  },
  {
   "cell_type": "code",
   "execution_count": 9,
   "metadata": {},
   "outputs": [],
   "source": [
    "# from docker-compose.yaml\n",
    "\n",
    "# postgres-db:\n",
    "#     hostname: postgres-db\n",
    "#     image: postgres:14\n",
    "#     environment:\n",
    "#       - POSTGRES_USER=postgres\n",
    "#       - POSTGRES_PASSWORD=postgres\n",
    "#       - POSTGRES_DB=psql_db_name\n",
    "#     ports:\n",
    "#       - \"5434:5432\"\n",
    "#     networks:\n",
    "#       - ntw"
   ]
  },
  {
   "cell_type": "code",
   "execution_count": 16,
   "metadata": {},
   "outputs": [
    {
     "name": "stdout",
     "output_type": "stream",
     "text": [
      "Connected to user=postgres password=xxx dbname=psql_db_name host=localhost port=5434.\n"
     ]
    }
   ],
   "source": [
    "try:\n",
    "    conn = psycopg2.connect(\n",
    "            database=\"psql_db_name\",\n",
    "            user=\"postgres\",\n",
    "            password=\"postgres\",\n",
    "            host=\"localhost\",\n",
    "            port=\"5434\"\n",
    "        )\n",
    "    cursor = conn.cursor()\n",
    "    print('Connected to ' + conn.dsn + '.')\n",
    "except (Exception, psycopg2.Error) as error:\n",
    "    print(\"Error while connecting to PostgreSQL\", error)"
   ]
  },
  {
   "cell_type": "code",
   "execution_count": 11,
   "metadata": {},
   "outputs": [],
   "source": [
    "# create table\n",
    "cursor.execute(\"\"\"\n",
    "    CREATE TABLE IF NOT EXISTS records (\n",
    "        record_timestamp TIMESTAMP,\n",
    "        id BIGINT,\n",
    "        latitude REAL,\n",
    "        longitude REAL,\n",
    "        cp VARCHAR(50),\n",
    "        pop TEXT,\n",
    "        adresse TEXT,\n",
    "        ville VARCHAR(50),\n",
    "        horaires TEXT,\n",
    "        services TEXT,\n",
    "        gazole_maj TIMESTAMP,\n",
    "        gazole_prix REAL,\n",
    "        sp95_maj TIMESTAMP,\n",
    "        sp95_prix REAL,\n",
    "        e85_maj TIMESTAMP,\n",
    "        e85_prix REAL,\n",
    "        gplc_maj TIMESTAMP,\n",
    "        gplc_prix REAL,\n",
    "        e10_maj TIMESTAMP,\n",
    "        e10_prix REAL,\n",
    "        sp98_maj TIMESTAMP,\n",
    "        sp98_prix REAL,\n",
    "        PRIMARY KEY (record_timestamp, id)\n",
    "    );  \n",
    "\"\"\")"
   ]
  },
  {
   "cell_type": "code",
   "execution_count": 12,
   "metadata": {},
   "outputs": [],
   "source": [
    "conn.commit()"
   ]
  },
  {
   "cell_type": "code",
   "execution_count": 23,
   "metadata": {},
   "outputs": [],
   "source": [
    "from datetime import datetime\n",
    "cursor.execute(\"\"\"\n",
    "               INSERT INTO records (record_timestamp, id, adresse, ville) VALUES (%s, %s, %s, %s);\n",
    "               \"\"\" , (datetime.now(), 7, '1 rue de la paix', 'Paris'))\n",
    "conn.commit()"
   ]
  },
  {
   "cell_type": "code",
   "execution_count": 24,
   "metadata": {},
   "outputs": [
    {
     "name": "stdout",
     "output_type": "stream",
     "text": [
      "  id  |     adresse      | ville \n",
      "------+------------------+-------\n",
      " 1986 | 1 rue de la paix | Paris\n",
      "    7 | 1 rue de la paix | Paris\n",
      "(2 rows)\n",
      "\n"
     ]
    }
   ],
   "source": [
    "!docker exec -it airflow_carburants-postgres-db-1 psql -U postgres -d psql_db_name -c \"SELECT id, adresse, ville FROM records;\""
   ]
  }
 ],
 "metadata": {
  "kernelspec": {
   "display_name": "venv",
   "language": "python",
   "name": "python3"
  },
  "language_info": {
   "codemirror_mode": {
    "name": "ipython",
    "version": 3
   },
   "file_extension": ".py",
   "mimetype": "text/x-python",
   "name": "python",
   "nbconvert_exporter": "python",
   "pygments_lexer": "ipython3",
   "version": "3.10.12"
  }
 },
 "nbformat": 4,
 "nbformat_minor": 2
}
