{
 "cells": [
  {
   "cell_type": "code",
   "execution_count": 1,
   "metadata": {},
   "outputs": [],
   "source": [
    "import requests\n",
    "import json\n",
    "from datetime import datetime\n",
    "import zipfile"
   ]
  },
  {
   "cell_type": "code",
   "execution_count": 2,
   "metadata": {},
   "outputs": [
    {
     "name": "stdout",
     "output_type": "stream",
     "text": [
      "File saved successfully.\n",
      "File unzipped successfully.\n"
     ]
    }
   ],
   "source": [
    "url = 'https://donnees.roulez-eco.fr/opendata/instantane'\n",
    "response = requests.get(url)\n",
    "\n",
    "\n",
    "if response.status_code == 200:\n",
    "    zip_path = './instantanes_files/zip/instantane_' + datetime.now().strftime('%Y%m%d_%H%M%S') + '.zip'\n",
    "    with open(zip_path, 'wb') as f:\n",
    "        f.write(response.content)\n",
    "        print('File saved successfully.')\n",
    "\n",
    "    output_folder = './instantanes_files/xml/'\n",
    "\n",
    "    with zipfile.ZipFile(zip_path, 'r') as zip_ref:\n",
    "        zip_ref.extractall(output_folder)\n",
    "        \n",
    "\n",
    "    print('File unzipped successfully.')\n",
    "else:\n",
    "    print('Failed to download the file.')"
   ]
  },
  {
   "cell_type": "code",
   "execution_count": 45,
   "metadata": {},
   "outputs": [
    {
     "name": "stdout",
     "output_type": "stream",
     "text": [
      "File PrixCarburants_instantane.xml converted successfully.\n"
     ]
    }
   ],
   "source": [
    "# !pip install xmltodict\n",
    "#xml to json\n",
    "import xmltodict\n",
    "import json\n",
    "import os\n",
    "\n",
    "xml_folder = './instantanes_files/xml/'\n",
    "json_folder = './instantanes_files/json/'\n",
    "\n",
    "for filename in os.listdir(xml_folder):\n",
    "    if filename.endswith(\".xml\"):\n",
    "        xml_path = xml_folder + filename\n",
    "        json_path = json_folder + filename.replace('.xml', '.json')\n",
    "        with open(xml_path, 'r', encoding='ISO-8859-1') as xml_file:\n",
    "            xml_content = xml_file.read()\n",
    "            json_content = json.dumps(xmltodict.parse(xml_content), indent=4)\n",
    "            with open(json_path, 'w') as json_file:\n",
    "                json_file.write(json_content)\n",
    "                print('File ' + filename + ' converted successfully.')\n",
    "    else:\n",
    "        continue"
   ]
  },
  {
   "cell_type": "code",
   "execution_count": 3,
   "metadata": {},
   "outputs": [],
   "source": [
    "import xml.etree.ElementTree as ET\n",
    "import psycopg2"
   ]
  },
  {
   "cell_type": "code",
   "execution_count": 4,
   "metadata": {},
   "outputs": [],
   "source": [
    "# Parse XML file\n",
    "tree = ET.parse('instantanes_files/xml/PrixCarburants_instantane.xml')\n",
    "root = tree.getroot()"
   ]
  },
  {
   "cell_type": "code",
   "execution_count": 21,
   "metadata": {},
   "outputs": [],
   "source": [
    "# Establish database connection\n",
    "conn = psycopg2.connect(\n",
    "    database=\"carburants\",\n",
    "    user=\"yzpt\",\n",
    "    password=\"yzpt\",\n",
    "    host=\"localhost\",\n",
    "    port=\"5432\"\n",
    ")\n",
    "cursor = conn.cursor()"
   ]
  },
  {
   "cell_type": "code",
   "execution_count": 9,
   "metadata": {},
   "outputs": [],
   "source": [
    "# Create table if it doesn't exist\n",
    "cursor.execute('''\n",
    "    CREATE TABLE IF NOT EXISTS table_from_xml (\n",
    "        record_timestamp TIMESTAMP,\n",
    "        id BIGINT,\n",
    "        latitude REAL,\n",
    "        longitude REAL,\n",
    "        cp VARCHAR(50),\n",
    "        pop TEXT,\n",
    "        adresse TEXT,\n",
    "        ville VARCHAR(50),\n",
    "        horaires TEXT,\n",
    "        services TEXT,\n",
    "        gazole_maj TIMESTAMP,\n",
    "        gazole_prix REAL,\n",
    "        sp95_maj TIMESTAMP,\n",
    "        sp95_prix REAL,\n",
    "        e85_maj TIMESTAMP,\n",
    "        e85_prix REAL,\n",
    "        gplc_maj TIMESTAMP,\n",
    "        gplc_prix REAL,\n",
    "        e10_maj TIMESTAMP,\n",
    "        e10_prix REAL,\n",
    "        sp98_maj TIMESTAMP,\n",
    "        sp98_prix REAL,\n",
    "        carburants_disponibles VARCHAR(50),\n",
    "        carburants_indisponibles VARCHAR(50),\n",
    "        horaires_automate_24_24 TEXT,\n",
    "        departement VARCHAR(50),\n",
    "        code_departement VARCHAR(50),\n",
    "        region VARCHAR(50),\n",
    "        code_region VARCHAR(50),\n",
    "        PRIMARY KEY (record_timestamp, id)\n",
    "        );\n",
    "''')\n",
    "conn.commit()"
   ]
  },
  {
   "cell_type": "code",
   "execution_count": 7,
   "metadata": {},
   "outputs": [
    {
     "name": "stdout",
     "output_type": "stream",
     "text": [
      "18230001\n",
      "54300001\n",
      "45450003\n",
      "25115001\n",
      "95350002\n"
     ]
    }
   ],
   "source": [
    "for item in root.findall('pdv')[:5]:\n",
    "    print(item.get('id'))"
   ]
  },
  {
   "cell_type": "code",
   "execution_count": 23,
   "metadata": {},
   "outputs": [],
   "source": [
    "cursor = conn.cursor()\n",
    "\n",
    "# Insert data into the database\n",
    "dt_now = datetime.now()\n",
    "\n",
    "for item in root.findall('pdv'):\n",
    "    id                  = int(item.get('id'))\n",
    "    record_timestamp    = dt_now\n",
    "    latitude            = float(item.get('latitude'))\n",
    "    longitude           = float(item.get('longitude'))\n",
    "    cp                  = item.get('cp')\n",
    "    pop                 = item.get('pop')\n",
    "    adresse             = item.get('adresse')\n",
    "    ville               = item.get('ville')\n",
    "    horaires            = item.get('horaires')\n",
    "    services            = item.get('services')\n",
    "    #     <prix nom=\"Gazole\" id=\"1\" maj=\"2023-11-22 08:00:00\" valeur=\"1.767\"/>\n",
    "    gazole_maj          = datetime.strptime(item.find(\"prix[@nom='Gazole']\").get('maj'), '%Y-%m-%d %H:%M:%S') if item.find(\"prix[@nom='Gazole']\") is not None else None\n",
    "    gazole_prix         = float(item.find(\"prix[@nom='Gazole']\").get('valeur')) if item.find(\"prix[@nom='Gazole']\") is not None else None\n",
    "    sp95_maj            = datetime.strptime(item.find(\"prix[@nom='SP95']\").get('maj'), '%Y-%m-%d %H:%M:%S') if item.find(\"prix[@nom='SP95']\") is not None else None\n",
    "    sp95_prix           = float(item.find(\"prix[@nom='SP95']\").get('valeur')) if item.find(\"prix[@nom='SP95']\") is not None else None\n",
    "    e85_maj             = datetime.strptime(item.find(\"prix[@nom='E85']\").get('maj'), '%Y-%m-%d %H:%M:%S') if item.find(\"prix[@nom='E85']\") is not None else None\n",
    "    e85_prix            = float(item.find(\"prix[@nom='E85']\").get('valeur')) if item.find(\"prix[@nom='E85']\") is not None else None\n",
    "    gplc_maj            = datetime.strptime(item.find(\"prix[@nom='GPLc']\").get('maj'), '%Y-%m-%d %H:%M:%S') if item.find(\"prix[@nom='GPLc']\") is not None else None\n",
    "    gplc_prix           = float(item.find(\"prix[@nom='GPLc']\").get('valeur')) if item.find(\"prix[@nom='GPLc']\") is not None else None\n",
    "    e10_maj             = datetime.strptime(item.find(\"prix[@nom='E10']\").get('maj'), '%Y-%m-%d %H:%M:%S') if item.find(\"prix[@nom='E10']\") is not None else None\n",
    "    e10_prix            = float(item.find(\"prix[@nom='E10']\").get('valeur')) if item.find(\"prix[@nom='E10']\") is not None else None\n",
    "    sp98_maj            = datetime.strptime(item.find(\"prix[@nom='SP98']\").get('maj'), '%Y-%m-%d %H:%M:%S') if item.find(\"prix[@nom='SP98']\") is not None else None\n",
    "    sp98_prix           = float(item.find(\"prix[@nom='SP98']\").get('valeur')) if item.find(\"prix[@nom='SP98']\") is not None else None\n",
    "    \n",
    "    \n",
    "    \n",
    "    # Insert data into the table\n",
    "    cursor.execute('''\n",
    "        INSERT INTO table_from_xml (\n",
    "                id, record_timestamp, cp, pop, adresse, ville, horaires, services, latitude, longitude, gazole_maj, gazole_prix, sp95_maj, sp95_prix, e85_maj, e85_prix, gplc_maj, gplc_prix, e10_maj, e10_prix, sp98_maj, sp98_prix\n",
    "            ) VALUES (\n",
    "                %s, %s, %s, %s, %s, %s, %s, %s, %s, %s, %s,%s, %s,%s, %s,%s, %s,%s, %s,%s, %s,%s\n",
    "            )\n",
    "        ''', \n",
    "        (\n",
    "            id, record_timestamp, cp, pop, adresse, ville, horaires, services, latitude, longitude, gazole_maj, gazole_prix, sp95_maj, sp95_prix, e85_maj, e85_prix, gplc_maj, gplc_prix, e10_maj, e10_prix, sp98_maj, sp98_prix\n",
    "        )\n",
    "    )\n",
    "conn.commit()\n"
   ]
  },
  {
   "cell_type": "code",
   "execution_count": null,
   "metadata": {},
   "outputs": [],
   "source": [
    "# Close the database connection\n",
    "cursor.close()\n",
    "conn.close()"
   ]
  },
  {
   "cell_type": "code",
   "execution_count": null,
   "metadata": {},
   "outputs": [],
   "source": []
  }
 ],
 "metadata": {
  "kernelspec": {
   "display_name": "venv",
   "language": "python",
   "name": "python3"
  },
  "language_info": {
   "codemirror_mode": {
    "name": "ipython",
    "version": 3
   },
   "file_extension": ".py",
   "mimetype": "text/x-python",
   "name": "python",
   "nbconvert_exporter": "python",
   "pygments_lexer": "ipython3",
   "version": "3.10.12"
  }
 },
 "nbformat": 4,
 "nbformat_minor": 2
}
